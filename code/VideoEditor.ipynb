{
 "cells": [
  {
   "cell_type": "code",
   "execution_count": 1,
   "id": "bce84432",
   "metadata": {},
   "outputs": [],
   "source": [
    "import pandas as pd\n",
    "import moviepy.editor as mp\n",
    "import os"
   ]
  },
  {
   "cell_type": "code",
   "execution_count": 2,
   "id": "d0f42275",
   "metadata": {
    "scrolled": false
   },
   "outputs": [],
   "source": [
    "# %history -g"
   ]
  },
  {
   "cell_type": "code",
   "execution_count": 2,
   "id": "d4a89c16",
   "metadata": {},
   "outputs": [],
   "source": [
    "# function to read in data\n",
    "def read_data():\n",
    "    filepath = '../data/match_event_data.csv'\n",
    "    return pd.read_csv(filepath)\n",
    "\n",
    "def read_video(filepath,filename):\n",
    "    clip = mp.VideoFileClip(filepath + filename)\n",
    "    return clip\n",
    "    \n",
    "# function to clip video\n",
    "def trim_audio(audio,start,end):\n",
    "    start = tuple([float(t) for t in start.split(':')])\n",
    "    start = 60*start[0] + start[1]\n",
    "    end = tuple([float(t) for t in end.split(':')])\n",
    "    end = 60*end[0] + end[1]\n",
    "    \n",
    "    print(start,end,audio.duration)\n",
    "    return audio.subclip(t_start = start,t_end = end)\n",
    "\n",
    "\n",
    "\n",
    "# def trim_and_cutout(audio,start1,end1,start2,end2,duration_1,duration_2):\n",
    "#     start1 = tuple([float(t) for t in start1.split(':')])\n",
    "#     start1 = 60*start1[0] + start1[1]\n",
    "#     end1 = tuple([float(t) for t in end1.split(':')])\n",
    "#     print(end1)\n",
    "#     end1 = 60*end1[0] + end1[1]\n",
    "    \n",
    "#     if end1 >= fullduration:\n",
    "#         print(f\"Cropping end1 from {endtime} to {fullduration}!\")\n",
    "#         end1 = None\n",
    "    \n",
    "#     start2 = tuple([float(t) for t in start2.split(':')])\n",
    "#     start2 = 60*start2[0] + start2[1] + duration_1\n",
    "#     end2 = tuple([float(t) for t in end2.split(':')])\n",
    "#     end2 = 60*end2[0] + end2[1] + duration_1\n",
    "    \n",
    "#     print(start1,end1,start2,end2)\n",
    "#     cut_audio = audio.cutout(ta = end1, tb = start2)\n",
    "#     trimmed_audio = cut_audio.subclip(t_start = start1,t_end = end2)\n",
    "#     return trimmed_audio\n",
    "    \n",
    "# function to combine videos\n",
    "def combine_audio(audio_list):\n",
    "    return mp.concatenate_audioclips(audio_list)\n",
    "\n",
    "\n",
    "# function to write audio file to data and save\n",
    "def save_audio(audio_clip,audio_path,audio_name):\n",
    "    audio_clip.write_audiofile(audio_path+audio_name+'.mp3')\n",
    "    \n",
    "def delete_temp_audio_files():\n",
    "    # Set the path to the folder\n",
    "    folder_path = \"../data/audio/\"\n",
    "\n",
    "    # Get a list of all the files in the folder\n",
    "    file_list = os.listdir(folder_path)\n",
    "\n",
    "    # Iterate over the list of files\n",
    "    for file in file_list:\n",
    "      # Check if the file has 'temp' in the name\n",
    "      if 'temp' in file:\n",
    "        # Construct the full path to the file\n",
    "        file_path = os.path.join(folder_path, file)\n",
    "        # Delete the file\n",
    "        os.remove(file_path)\n",
    "\n",
    "    # Print a message to confirm that the files have been deleted\n",
    "    print(\"Files with 'temp' in the name have been deleted\")\n",
    "\n",
    "    \n",
    "\n",
    "    \n",
    "    \n",
    "def scrape_audio_and_trim():\n",
    "    video_path = '../data/video/'\n",
    "    audio_path = '../data/audio/raw/'\n",
    "    \n",
    "    already_audio_scraped = [filename for filename in list(set(os.listdir(audio_path))) if filename[-4:]=='.mp3']\n",
    "    master = read_data()\n",
    "    \n",
    "    for row in range(len(master)):\n",
    "        filename = master['1st_half_file'][row]         \n",
    "        name = master['1st_half_file'][row]\n",
    "        date = master['Date'][row]\n",
    "        audio_file_name = name.split('-')[0] + date.split(' ')[0]\n",
    "        print('creating',audio_file_name+'.mp3')\n",
    "                             \n",
    "        if audio_file_name + '.mp3' in already_audio_scraped:\n",
    "            print(audio_file_name,'already exists')\n",
    "            continue                      \n",
    "        \n",
    "        first_half_file = master['1st_half_file'][row]\n",
    "        second_half_file = master['2nd_half_file'][row]\n",
    "        \n",
    "        first_half_start = master['1st_half_start'][row]\n",
    "        first_half_end = master['1st_half_end'][row]\n",
    "        \n",
    "        second_half_start = master['2nd_half_start'][row]\n",
    "        second_half_end = master['2nd_half_end'][row]\n",
    "    \n",
    "        \n",
    "        first_half_audio = read_video(video_path,first_half_file).audio\n",
    "        second_half_audio = read_video(video_path,second_half_file).audio\n",
    "        \n",
    "        trimmed_1 = trim_audio(first_half_audio,first_half_start,first_half_end)\n",
    "        trimmed_2 = trim_audio(second_half_audio,second_half_start,second_half_end)\n",
    "        \n",
    "        combined = combine_audio([trimmed_1,trimmed_2])\n",
    "    \n",
    "        save_audio(combined,audio_path,audio_file_name)\n",
    "        print(audio_file_name+'.mp3','saved')\n",
    "        \n",
    "#         # delete temp audio\n",
    "#         delete_temp_audio_files()\n",
    "\n",
    "        \n",
    "        "
   ]
  },
  {
   "cell_type": "code",
   "execution_count": 3,
   "id": "004b1953",
   "metadata": {
    "scrolled": false
   },
   "outputs": [
    {
     "name": "stdout",
     "output_type": "stream",
     "text": [
      "creating WOL_vs_ARS_2022-11-12.mp3\n",
      "WOL_vs_ARS_2022-11-12 already exists\n",
      "creating BRE_vs_MAN_2022-08-13.mp3\n",
      "BRE_vs_MAN_2022-08-13 already exists\n",
      "creating WOL_vs_FUL_2022-08-13.mp3\n",
      "WOL_vs_FUL_2022-08-13 already exists\n",
      "creating MCI_vs_BOU_2022-08-13.mp3\n",
      "245.0 3185.0 3230.17\n",
      "280.0 3170.0 3214.4\n",
      "MoviePy - Writing audio in ../data/audio/raw/MCI_vs_BOU_2022-08-13.mp3\n"
     ]
    },
    {
     "name": "stderr",
     "output_type": "stream",
     "text": [
      "                                                                                                                                                                                           \r"
     ]
    },
    {
     "name": "stdout",
     "output_type": "stream",
     "text": [
      "MoviePy - Done.\n",
      "MCI_vs_BOU_2022-08-13.mp3 saved\n",
      "creating BHA_vs_NEW_2022-08-13.mp3\n",
      "370.0 3200.0 3279.7\n",
      "80.0 3005.0 3006.04\n",
      "MoviePy - Writing audio in ../data/audio/raw/BHA_vs_NEW_2022-08-13.mp3\n"
     ]
    },
    {
     "name": "stderr",
     "output_type": "stream",
     "text": [
      "                                                                                                                                                                                           \r"
     ]
    },
    {
     "name": "stdout",
     "output_type": "stream",
     "text": [
      "MoviePy - Done.\n",
      "BHA_vs_NEW_2022-08-13.mp3 saved\n",
      "creating ARS_vs_LEI_2022-08-13.mp3\n",
      "338.0 3315.0 3369.77\n",
      "45.0 3127.0 3193.21\n",
      "MoviePy - Writing audio in ../data/audio/raw/ARS_vs_LEI_2022-08-13.mp3\n"
     ]
    },
    {
     "name": "stderr",
     "output_type": "stream",
     "text": [
      "                                                                                                                                                                                           \r"
     ]
    },
    {
     "name": "stdout",
     "output_type": "stream",
     "text": [
      "MoviePy - Done.\n",
      "ARS_vs_LEI_2022-08-13.mp3 saved\n",
      "creating AST_vs_EVE_2022-08-13.mp3\n",
      "435.0 3338.0 3387.85\n",
      "120.0 3359.0 3426.08\n",
      "MoviePy - Writing audio in ../data/audio/raw/AST_vs_EVE_2022-08-13.mp3\n"
     ]
    },
    {
     "name": "stderr",
     "output_type": "stream",
     "text": [
      "                                                                                                                                                                                           \r"
     ]
    },
    {
     "name": "stdout",
     "output_type": "stream",
     "text": [
      "MoviePy - Done.\n",
      "AST_vs_EVE_2022-08-13.mp3 saved\n",
      "creating CHE_vs_TOT_2022-08-14.mp3\n",
      "355.0 3250.0 3279.76\n",
      "90.0 3240.0 3423.4\n",
      "MoviePy - Writing audio in ../data/audio/raw/CHE_vs_TOT_2022-08-14.mp3\n"
     ]
    },
    {
     "name": "stderr",
     "output_type": "stream",
     "text": [
      "                                                                                                                                                                                           \r"
     ]
    },
    {
     "name": "stdout",
     "output_type": "stream",
     "text": [
      "MoviePy - Done.\n",
      "CHE_vs_TOT_2022-08-14.mp3 saved\n",
      "creating FOR_vs_WES_2022-08-14.mp3\n",
      "340.0 3240.0 3272.41\n",
      "90.0 3300.0 3430.56\n",
      "MoviePy - Writing audio in ../data/audio/raw/FOR_vs_WES_2022-08-14.mp3\n"
     ]
    },
    {
     "name": "stderr",
     "output_type": "stream",
     "text": [
      "                                                                                                                                                                                           "
     ]
    },
    {
     "name": "stdout",
     "output_type": "stream",
     "text": [
      "MoviePy - Done.\n",
      "FOR_vs_WES_2022-08-14.mp3 saved\n"
     ]
    },
    {
     "name": "stderr",
     "output_type": "stream",
     "text": [
      "\r"
     ]
    }
   ],
   "source": [
    "scrape_audio_and_trim()"
   ]
  },
  {
   "cell_type": "code",
   "execution_count": null,
   "id": "6014ae64",
   "metadata": {},
   "outputs": [],
   "source": []
  },
  {
   "cell_type": "code",
   "execution_count": null,
   "id": "6f85a80c",
   "metadata": {},
   "outputs": [],
   "source": []
  },
  {
   "cell_type": "code",
   "execution_count": null,
   "id": "f22338eb",
   "metadata": {
    "scrolled": true
   },
   "outputs": [],
   "source": []
  },
  {
   "cell_type": "code",
   "execution_count": null,
   "id": "df50c091",
   "metadata": {},
   "outputs": [],
   "source": []
  },
  {
   "cell_type": "code",
   "execution_count": null,
   "id": "deefd43a",
   "metadata": {},
   "outputs": [],
   "source": []
  },
  {
   "cell_type": "code",
   "execution_count": 5,
   "id": "c5aa8476",
   "metadata": {},
   "outputs": [],
   "source": [
    "# audioclip = mp.AudioFileClip('../data/test/audio/'+'test.mp3')\n",
    "# print(audioclip.duration)\n",
    "# x = audioclip.subclip(t_start = 50)\n",
    "# y = audioclip.subclip(t_end = 70)\n",
    "\n",
    "# z = mp.concatenate_audioclips([x,y])\n",
    "\n",
    "# z.write_audiofile('../data/test/audio/'+'test2'+'.mp3')"
   ]
  },
  {
   "cell_type": "code",
   "execution_count": 6,
   "id": "19073739",
   "metadata": {},
   "outputs": [],
   "source": [
    "# import noisereduce as nr\n",
    "\n",
    "# # Load the audio file\n",
    "# rate, data = wavfile.read(wname)\n",
    "# noisy_t = (35*60+12)*1000+50000\n",
    "# noisy_part = data[noisy_t:noisy_t+200000] \n",
    "\n",
    "# # Run the noise reduction algorithm\n",
    "# noise_reduced_data = nr.reduce_noise(y=data, sr=rate,y_noise=noisy_part,n_fft=512)\n",
    "\n",
    "# plt.specgram(noise_reduced_data, Fs=FS, NFFT=512, noverlap=0)  # plot\n",
    "# plt.show()\n",
    "\n",
    "###############\n",
    "\n",
    "# from denoiser import pretrained\n",
    "# from denoiser.dsp import convert_audio\n",
    "# from IPython.display import Audio, display\n",
    "# import torch\n",
    "# import torchaudio\n",
    "\n",
    "# from pydub import AudioSegment\n",
    "# import matplotlib.pyplot as plt\n",
    "# from scipy.io import wavfile\n",
    "# from tempfile import mktemp\n",
    "# import numpy as np\n",
    "# import os\n",
    "\n",
    "###############\n",
    "\n",
    "# files = ['WOL_vs_ARS_2022-11-12.mp3']\n",
    "# path_to_raw = '../data/audio/raw/'\n",
    "# path_to_mono = '../data/audio/mono/'\n",
    "# path_to_clean = '../data/audio/clean/'\n",
    "# path_to_background = '../data/audio/background/'\n",
    "\n",
    "# #function to find all the file names in raw that are not in clean\n",
    "\n",
    "# def diff_files(dir1, dir2):\n",
    "#     # Get a list of all files in both directories\n",
    "#     files1 = set(os.listdir(dir1))\n",
    "#     files2 = set(os.listdir(dir2))\n",
    "\n",
    "#     # Find the files that are in dir1 but not in dir2\n",
    "#     diff = files1 - files2\n",
    "\n",
    "#     return [file for file in list(diff) if file[-4:]=='.mp3']\n",
    "\n",
    "# file_list = diff_files(path_to_raw,path_to_clean)\n",
    "# print(file_list)\n",
    "\n",
    "# # run through all uncleaned files \n",
    "# # files = file_list\n",
    "\n",
    "###############\n",
    "\n",
    "# %%time\n",
    "\n",
    "# for filename in files:\n",
    "    \n",
    "#     # read in raw as mono\n",
    "#     mp3_audio = AudioSegment.from_file(path_to_raw+filename, format=\"mp3\")  # read mp3\n",
    "#     tempfile1 = mktemp('.wav')\n",
    "#     mp3_audio.set_channels(1).export(tempfile1, format=\"wav\")\n",
    "    \n",
    "    \n",
    "#     # read in raw as wav file\n",
    "#     raw_rate, data = wavfile.read(tempfile1)\n",
    "#     # save to mono file\n",
    "#     wavfile.write(path_to_mono+filename, raw_rate,data)\n",
    "    \n",
    "#     #split into 10 minute segments\n",
    "#     delta_t = (raw_rate * 60 * 10)\n",
    "#     num_splits = len(data)//delta_t\n",
    "#     print('splitting file',filename,'into',num_splits-1,'segments of 10m + 1 remainder')\n",
    "    \n",
    "#     start = 0\n",
    "#     audio_segments=[]\n",
    "#     for split in range(0,num_splits):\n",
    "#         end = delta_t*(split+1)\n",
    "#         audio_segments.append(data[start:end])\n",
    "#         start = end\n",
    "        \n",
    "#     audio_segments.append(data[end:])\n",
    "    \n",
    "#     #create list for segments\n",
    "#     clean_segments = []\n",
    "#     background_segments = []\n",
    "    \n",
    "#     #initialize model\n",
    "#     print('initialising denoiser for ',filename)\n",
    "#     model = pretrained.dns64()\n",
    "    \n",
    "#     # denoise each segment\n",
    "#     for ii,segment in enumerate(audio_segments):\n",
    "        \n",
    "#         print('segment',ii,'/',num_splits)\n",
    "        \n",
    "#         #create temp wav file\n",
    "#         temp_segment_file = mktemp('.wav')\n",
    "#         wavfile.write(temp_segment_file, raw_rate, segment)\n",
    "        \n",
    "#         wav, rate = torchaudio.load(temp_segment_file)\n",
    "#         wav = convert_audio(wav, rate, model.sample_rate, model.chin)\n",
    "        \n",
    "#         with torch.no_grad():\n",
    "#             denoised = model(wav[None])[0]\n",
    "#         clean_segments.append(denoised.data.numpy())\n",
    "#         background_segments.append(wav.data.numpy() - denoised.data.numpy())\n",
    "\n",
    "    \n",
    "#     #stitch back together and save file in clean folder\n",
    "#     full_match_clean_audio = np.concatenate(clean_segments, axis=None)\n",
    "#     full_match_background_audio = np.concatenate(background_segments, axis=None)\n",
    "    \n",
    "#     display(Audio(full_match_clean_audio,rate = model.sample_rate))\n",
    "#     display(Audio(full_match_background_audio,rate = model.sample_rate))\n",
    "    \n",
    "#     wavfile.write(path_to_clean+filename, model.sample_rate, full_match_clean_audio)\n",
    "#     wavfile.write(path_to_background+filename, model.sample_rate, full_match_background_audio)\n",
    "    \n",
    "    \n",
    "    \n",
    "    \n"
   ]
  }
 ],
 "metadata": {
  "kernelspec": {
   "display_name": "Python 3 (ipykernel)",
   "language": "python",
   "name": "python3"
  },
  "language_info": {
   "codemirror_mode": {
    "name": "ipython",
    "version": 3
   },
   "file_extension": ".py",
   "mimetype": "text/x-python",
   "name": "python",
   "nbconvert_exporter": "python",
   "pygments_lexer": "ipython3",
   "version": "3.8.15"
  }
 },
 "nbformat": 4,
 "nbformat_minor": 5
}
